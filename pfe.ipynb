{
 "cells": [
  {
   "cell_type": "code",
   "execution_count": 1,
   "metadata": {
    "hide_input": true
   },
   "outputs": [
    {
     "data": {
      "text/html": [
       "<link rel=\"stylesheet\" href=\"custom.css\"> \n",
       "\n",
       "\n",
       "<script>\n",
       "    // AUTORUN ALL CELLS ON NOTEBOOK-LOAD!\n",
       "    require(\n",
       "        ['base/js/namespace', 'jquery'], \n",
       "        function(jupyter, $) {\n",
       "            $(jupyter.events).on(\"kernel_ready.Kernel\", function () {\n",
       "                console.log(\"Auto-running all cells-below...\");\n",
       "                jupyter.actions.call('jupyter-notebook:run-all-cells-below');\n",
       "                jupyter.actions.call('jupyter-notebook:save-notebook');\n",
       "            });\n",
       "        }\n",
       "    );\n",
       "</script>\n",
       "\n"
      ],
      "text/plain": [
       "<IPython.core.display.HTML object>"
      ]
     },
     "metadata": {},
     "output_type": "display_data"
    }
   ],
   "source": [
    "\n",
    "\n",
    "%%html\n",
    "<link rel=\"stylesheet\" href=\"custom.css\"> \n",
    "\n",
    "\n",
    "<script>\n",
    "    // AUTORUN ALL CELLS ON NOTEBOOK-LOAD!\n",
    "    require(\n",
    "        ['base/js/namespace', 'jquery'], \n",
    "        function(jupyter, $) {\n",
    "            $(jupyter.events).on(\"kernel_ready.Kernel\", function () {\n",
    "                console.log(\"Auto-running all cells-below...\");\n",
    "                jupyter.actions.call('jupyter-notebook:run-all-cells-below');\n",
    "                jupyter.actions.call('jupyter-notebook:save-notebook');\n",
    "            });\n",
    "        }\n",
    "    );\n",
    "</script>\n",
    "\n"
   ]
  },
  {
   "cell_type": "markdown",
   "metadata": {},
   "source": [
    "\\title{Algorithme de Métropolis Hasting Pseudo Marginal : Théorie et implémentation}\n",
    "\\author{Enzo Cabaret, Romain Rossello}\n",
    "\\maketitle\n",
    "\n",
    "\n",
    "\n",
    "\n",
    "\n",
    "\n",
    "\n",
    "\n",
    "\n",
    "\n",
    "\n",
    "\n"
   ]
  },
  {
   "cell_type": "markdown",
   "metadata": {},
   "source": [
    "\\section{Introduction}\n",
    "\n",
    "Dans le cadre de notre projet de fin d'étude nous présentons ici en détail l'algorithme de Métropolis Hasting et son implémentation en python. (à compléter)"
   ]
  },
  {
   "cell_type": "markdown",
   "metadata": {},
   "source": [
    "\\section{ I Introduction aux chaines de Markov}\n",
    "\n",
    "L'algorithme de Métropolis Hasting fait partie des méthodes dites \"Markov Chains Monte Carlo\" (MCMC), ces méthodes permettent de simuler des lois de probabilité dont on ne connaitrait pas l'intégralité des paramètres. Ces méthodes ont deux aspects, Monte Carlo : il s'agit d'estimer une quantité à partir de tirage aléatoires, Markov Chains: on va chercher à simuler les réalisations d'une chaine de Markov dont la loi limite est notre loi cible. Dans cette première section on donne les éléments de base pour comprendre les aspects des chaines de markovs utiles pour apréhender les MCMC.\n",
    "\n",
    "\n",
    "On se place dans un espace mesurable $(\\mathrm{X},\\mathcal{X})$\n",
    "\\begin{definition}\n",
    "On dit que $P:\\mathrm{X}\\times\\X \\to \\R^+$ est un kernel de Markov si $\\forall (x,A)\\in \\mathrm{X},\\X$ on a:\n",
    "\n",
    "\\begin{itemize}\n",
    "\\item $\\mathrm{X}\\ni y \\mapsto P(y,A)$ est $\\B(\\R^+)$ mesurable\n",
    "\\item $\\X \\ni B \\mapsto P(x,B)$ est une mesure de probabilité sur $(\\mathrm{X},\\mathcal{X})$\n",
    "\\end{itemize}\n",
    "\\end{definition}\n",
    "\n",
    "\\begin{definition}\n",
    "Soit $(X_k)_{k\\in \\N}$ une séquence de variables aléatoires sur un même espace $(\\Omega,\\G,\\P)$ et prenant des valeurs dans $\\mathrm{X}$ on dit que $(X_k)_{k\\in \\N}$ est une chaine de markov si et seulement si on a:\n",
    "\n",
    "\\begin{itemize}\n",
    "\\item $\\forall (k,A) \\in \\N \\times\\X$ on a $ \\P(X_{k+1}\\in A|X_{0:k})= P(X_k,A)$ $\\P$-ps\n",
    "\\item $\\P(X_0 \\in A) = \\nu(A)$  avec $\\nu \\in M_1(\\X)$\n",
    "\\end{itemize}\n",
    "\\end{definition}\n",
    "\n",
    "\\subsection{Notations additionnelles}\n",
    "\n",
    "On introduit ici des notations en lien avec les kernels de markovs pour simplifer l'expression des calculs par la suite.\n",
    "\n",
    "Soit $\\mu \\in M_1(\\X)$, $P,Q$ des kernel de markov  et $h$ une fontion bornée sur $\\mathrm{X}$ on note :\n",
    "\\begin{itemize}\n",
    "\\item $\\mu P$: $\\X \\ni A \\mapsto \\mu P(A) = \\int \\mu(dx)P(x,A)$\n",
    "\\item $PQ$ le kernel de markov: $(x,A)\\mapsto \\int_\\mathrm{X} P(x,dy)Q(y,A)$\n",
    "\\end{itemize}\n",
    "\n",
    "\\begin{lemma} $(X_k)_{k\\in \\N}$ une chaine de markov sur $(\\Omega,\\G,\\P)$ et qui prend des valeurs dans $\\mathrm{X}$ avec un kernel $P$ et une distribution initiale $\\nu$ alors $ \\forall n \\in \\N$ la loi de $X_{0:n}$ est $\\nu(dx_0)\\prod_{i=1}^{n-1}P(x_i,dx_{i+1})$. De meme $X_n$ suit la loi $\\nu P^n$\n",
    "\\end{lemma}\n",
    "\\begin{proof}\n",
    "Facile. Pour la deuxième assertion il suffit d'integrer le résultat de la premiere.\n",
    "\\end{proof}\n",
    "\n",
    "\\subsection{Probabilités invariantes}\n",
    "\n",
    "\\begin{definition} \n",
    "On appelle probabilité invariante pour le kernel de Markov $P$ toute mesure $\\pi$ vérifiant : $\\pi = \\pi P$\n",
    "\\end{definition}\n",
    "\n",
    "\\begin{definition} \n",
    "Soit $\\pi$ une mesure de probabilité et P un kernel de markov on dit que P et $\\pi$-reversible si \n",
    "\n",
    "\\[\\pi(dx)P(x,dy) = \\pi(dy)P(y,dx) \\]\n",
    "\n",
    "\\end{definition}\n",
    "\n",
    "\\begin{proposition}\n",
    "Soit $P$ un kernel de Markov et $\\pi$ une probabilité. Si P est $\\pi$-reversible alors $\\pi$ est invariante pour P.\n",
    "\\end{proposition}\n",
    "\n",
    "\\section{II Algorithme d'Acceptation Rejet et Métropolis Hastings}\n",
    "\n",
    "\\subsection{Rappels des simulations de variables aléatoires}\n",
    "\n",
    "On note ici $X$ une variable aléatoire (v.a.) réele et $F$ sa fonction de répartition : $F(x) := \\P(X\\leq x)$\n",
    "\n",
    "On rappelle que $F$ est croissante, continue à droite et limité à gauche.\n",
    "\n",
    "\\begin{definition}\n",
    "On appelle inverse généralisée de F ou fontion quantile la fonction définie par : \\[ \\forall u \\in ]0,1[\\enspace \n",
    "F^{-1}(u) = \\mathrm{inf}\\{x\\in\\R\\mid F(x)\\geq u\\}\\]\n",
    "\\end{definition}\n",
    "\n",
    "\\begin{theorem}\n",
    "Soient $X$ une v.a. réele et $U$ une v.a. de loi uniforme sur $]0,1[$. Alors $F^{-1}(U)$ et $X$ ont la même loi.\n",
    "\\end{theorem}\n",
    "\\begin{proof}\n",
    "(si on a le temps de l'écrire)\n",
    "\\end{proof}\n",
    "\\subsection{Algorithme d'acceptation rejet}\n",
    "a completer ...\n"
   ]
  },
  {
   "cell_type": "markdown",
   "metadata": {
    "slideshow": {
     "slide_type": "-"
    }
   },
   "source": [
    "\\subsection{Algorithme de Métropolis Hasting}\n",
    "\n",
    "Dans les méthodes MCMC nous allons chercher à simuler les réalisations d'une chaine de Markov de kernel $P$ acceptant pour probabilité invariante la loi que l'on cherche à simuler $\\pi$. Toute la problématique revient à trouver le kernel $P$ adéquat. L'approche de Métropolis Hasting nous permet de construire ce kernel.\n",
    "\n",
    "Comme dans la méthode d'acceptation rejet on suppose que l'on dispose d'une densité nous permettant de générer des candidats pour l'état suivant de notre chaine de markov $y$ à l'état courant $x$ que l'on note $q(x,y)$. Si $q$ vérifie la condition de réversibilité (inserer ref) notre objectif est déja atteint. Cependant il n'y a pas de raison que ce soit le cas. Supposons $x,y \\in X$ tels que :\n",
    "\n",
    "\\[\\pi(x)q(x,y)>\\pi(y)q(y,x)\\]\n",
    "\n",
    "Dans ce cas la notre chaine de Markov bouge de x vers y trop souvent on introduit donc une probabilité $\\alpha(x,y)<1$ pour que y soit pris comme état suivant moins fréquement. Cela revient à choisir comme kernel de Markov le kernel de densité. \n",
    "\n",
    "\\[p_{MH}(x,y) = q(x,y)\\alpha(x,y)\\text{  avec } x\\neq y \\]\n",
    "\n",
    "On souhaite donc introduire $\\alpha(x,y)$ et $\\alpha(y,x)$ tels que l'équation d'equilibre (inserer ref) soit vérifiée cad :\n",
    "\n",
    "\\[\\pi(x)q(x,y)\\alpha(x,y)=\\pi(y)q(y,x)\\alpha(y,x)\\]\n",
    "\n",
    "ce qui nous donne l'identité suivante pour définir $\\alpha$:\n",
    "\n",
    "\\[\\alpha(x,y) = \\frac{\\pi(y)q(y,x)}{\\pi{x}q{x,y}}\\alpha(y,x)\\]\n",
    "\n",
    "Dans l'algorithme de métropolis hasting on cherche à ce que $\\alpha(x,y)$ soit maximale pour une exploration des nouveaux états plus rapides ce qui revient donc à :\n",
    "\n",
    "\\[\\alpha(x,y) = \\mathrm{min}(\\frac{\\pi(y)q(y,x)}{\\pi{x}q{x,y}},1)\\]\n",
    "\n",
    "Pour finir la définition du Kernel de Métropolis Hasting on doit considérer le cas ou notre chaine de Markov reste dans le même état car actuellement on se plaçait dans le cas $x\\neq y$. En utilisant notre raisonnement précédent la probabilité que la chaine reste dans le même état est :\n",
    "\n",
    "\\[r(x) = 1 - \\int_\\mathrm{X}q(x,y)\\alpha(x,y)dy\\]\n",
    "\n",
    "Finallement on définit le kernel de Métropolis Hasting par :\n",
    "\n",
    "\\[P_{MH}(x,y) = q(x,y)\\alpha(x,y)dy + \\left[1 - \\int_\\mathrm{X}q(x,y)\\alpha(x,y)dy\\right]\\delta_x(dy)\\]\n",
    "\n",
    "\n",
    "Ce qui nous amène à l'implémentation de l'algorithme de Métropolis Hasting :\n",
    "\n",
    "\n",
    "-Initialiser $x_0$ arbitrairement. <br />\n",
    "-Pour $i=0,\\dotsc,n-1$ faire :<br /> \n",
    "&nbsp; -Tirer $y$ à avec $q(x,\\cdot)$ et $u$ avec $\\mathscr{U}(0,1)$ <br />\n",
    "&nbsp; -Si $u<\\alpha(x_i,y)$ alors $x_{i+1} = y$<br />\n",
    "&nbsp; -Sinon $x_{i+1} = x_i$<br />\n",
    "-Fin Pour<br />\n",
    "-Retourner $x_0,\\dotsc,x_n$\n",
    "\n",
    "Nous illustrons l'algorithme par un exemple simple : <br />\n",
    "On se place dans le cas d'une distribution normale centrée réduite perturbée, le problème ici c'est que l'on ne peut pas exprimer la constante de normalisation toutefois l'algorithme de métropolis hasting nous permet quand meme de génerer des tirages.\n",
    "\n",
    "-fonction cible : $\\pi(x) \\propto \\mathrm{sin}^2(x) \\times \\mathrm{sin}^2(2x) \\times \\mathrm{exp}(-x^2/2)$ <br />\n",
    "-kernel : $q:x \\mapsto \\mathscr{U}(x-\\mu,x+\\mu)$ avec $\\mu > 0$<br />\n",
    "\n"
   ]
  },
  {
   "cell_type": "code",
   "execution_count": 2,
   "metadata": {},
   "outputs": [],
   "source": [
    "import numpy as np\n",
    "\n",
    "def pi(x):\n",
    "    return (np.sin(x)**2)*(np.sin(2*x)**2)*np.exp(-(x**2)/2)\n",
    "\n",
    "def metropolis_hastings(x_0,n,mu=1):\n",
    "    X = np.empty(n)\n",
    "    X[0] = x_0\n",
    "    for i in range(n-1):\n",
    "        y = np.random.uniform(X[i]-mu,X[i]+mu)\n",
    "        u = np.random.uniform(0,1)\n",
    "        if u < min(pi(y)/pi(X[i]),1):\n",
    "            X[i+1] = y\n",
    "        else:\n",
    "            X[i+1] = X[i]\n",
    "    return X\n",
    "    "
   ]
  },
  {
   "cell_type": "code",
   "execution_count": 3,
   "metadata": {},
   "outputs": [
    {
     "data": {
      "image/png": "[encoded data removed]",
      "text/plain": [
       "<Figure size 432x288 with 1 Axes>"
      ]
     },
     "metadata": {
      "needs_background": "light"
     },
     "output_type": "display_data"
    }
   ],
   "source": [
    "import matplotlib.pyplot as plt \n",
    "\n",
    "#paramètres\n",
    "x_0 = 3\n",
    "n = 10**4\n",
    "\n",
    "\n",
    "x_MH = metropolis_hastings(x_0,n)\n",
    "\n",
    "#graphe de la fonction cible :\n",
    "x = np.arange(-3,3,0.01)\n",
    "y = pi(x)\n",
    "y = [i/(sum(y)*0.01) for i in y]\n",
    "plt.plot(x,y)\n",
    "\n",
    "#hisogramme des échantillons obtenus par MH\n",
    "n,bins,patches = plt.hist(x_MH,100,density = True,histtype = 'step')\n",
    "\n",
    "\n",
    "plt.show()\n"
   ]
  },
  {
   "cell_type": "code",
   "execution_count": null,
   "metadata": {},
   "outputs": [],
   "source": []
  },
  {
   "cell_type": "markdown",
   "metadata": {},
   "source": [
    "$\\def\\egalpardef{\\mathop{=}\\limits^\\triangle}\n",
    "\\def\\xb{\\mathbf{x}}\n",
    "\\def\\X{\\mathcal{X}}\n",
    "\\def\\B{\\mathcal{B}}\n",
    "\\def\\G{\\mathcal{G}}\n",
    "\\def\\mystar{{*}}\n",
    "\\def\\deriv#1#2{\\frac{\\mathrm{d}#1}{\\mathrm{d}#2}}\n",
    "\\def\\Lambdab{\\mathbf{\\Lambda}}\n",
    "\\def\\Ab{\\mathbf{A}}\n",
    "\\def\\sinc#1{\\mathrm{sinc\\left(#1\\right)}}\n",
    "\\newcommand{\\C}{\\mathbb{C}}\n",
    "\\newcommand{\\P}{\\mathbb{P}}\n",
    "\\newcommand{\\R}{\\mathbb{R}}\n",
    "\\newcommand{\\Z}{\\mathbb{Z}}\n",
    "\\newcommand{\\N}{\\mathbb{N}}\n",
    "\\newcommand{\\D}{\\mathscr{D}}\n",
    "\\newcommand{\\F}{\\mathscr{F}}\n",
    "$"
   ]
  }
 ],
 "metadata": {
  "author": "Algorithme de Métropolis Hasting Pseudo Marginal : Théorie et implémentation",
  "hide_input": false,
  "kernelspec": {
   "display_name": "Python 3",
   "language": "python",
   "name": "python3"
  },
  "language_info": {
   "codemirror_mode": {
    "name": "ipython",
    "version": 3
   },
   "file_extension": ".py",
   "mimetype": "text/x-python",
   "name": "python",
   "nbconvert_exporter": "python",
   "pygments_lexer": "ipython3",
   "version": "3.8.5"
  },
  "latex_envs": {
   "LaTeX_envs_menu_present": true,
   "autoclose": false,
   "autocomplete": true,
   "bibliofile": "biblio.bib",
   "cite_by": "apalike",
   "current_citInitial": 1,
   "eqLabelWithNumbers": true,
   "eqNumInitial": 1,
   "hotkeys": {
    "equation": "Ctrl-E",
    "itemize": "Ctrl-I"
   },
   "labels_anchors": false,
   "latex_user_defs": false,
   "report_style_numbering": false,
   "user_envs_cfg": false
  }
 },
 "nbformat": 4,
 "nbformat_minor": 4
}
